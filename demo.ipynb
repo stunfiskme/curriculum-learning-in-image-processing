{
 "cells": [
  {
   "cell_type": "markdown",
   "metadata": {},
   "source": [
    "# Demonstration & Explanations of Image Complexity Metrics\n",
    "\n",
    "This notebook will demonstrate several calculations used to estimate the degree of complexity that an image possesses."
   ]
  },
  {
   "cell_type": "code",
   "execution_count": 33,
   "metadata": {},
   "outputs": [],
   "source": [
    "\"\"\"Imports\"\"\"\n",
    "\n",
    "from matplotlib                 import cm, pyplot   as plt\n",
    "from mpl_toolkits.axes_grid1    import ImageGrid\n",
    "from numpy                      import abs, array, finfo, hstack, log2, square, sum\n",
    "from os                         import makedirs\n",
    "from PIL                        import Image\n",
    "from pywt                       import wavedec2, wavelist"
   ]
  },
  {
   "cell_type": "markdown",
   "metadata": {},
   "source": [
    "## Image samples\n",
    "\n",
    "First, we need images that we can reasonably say are more/less complex than each other. For this purpose we will generate 6 black and white images. One solid black, one solid white, a 2x2 checker board, 4x4, 8x8, and 16x16."
   ]
  },
  {
   "cell_type": "code",
   "execution_count": 34,
   "metadata": {},
   "outputs": [],
   "source": [
    "\"\"\"Generate sample images.\"\"\"\n",
    "\n",
    "# Define output directory\n",
    "output: str = \"sample-images\"\n",
    "\n",
    "# Ensure directory exists\n",
    "makedirs(output, exist_ok = True)\n",
    "\n",
    "# Create solid black & white images\n",
    "Image.new(\"L\", (32, 32), 0).save(f\"{output}/02-black.png\")\n",
    "Image.new(\"L\", (32, 32), 255).save(f\"{output}/01-white.png\")\n",
    "\n",
    "# Create checkered images\n",
    "for e in range(1, 5):\n",
    "    \n",
    "    # Determine size of each square\n",
    "    square_dim: int     = 32 // 2**e\n",
    "    \n",
    "    # Initialize image\n",
    "    img:        Image   = Image.new(\"L\", (32, 32))\n",
    "    \n",
    "    # Color the image\n",
    "    for x in range(32):\n",
    "        for y in range(32):\n",
    "            \n",
    "            img.putpixel((x, y), 255 if ((x // square_dim) + (y // square_dim)) % 2 == 0 else 0)\n",
    "            \n",
    "    # Save image\n",
    "    img.save(f\"{output}/0{e + 2}-{2**e}x{2**e}.png\")"
   ]
  },
  {
   "cell_type": "code",
   "execution_count": 35,
   "metadata": {},
   "outputs": [
    {
     "data": {
      "image/png": "[encoded data removed]",
      "text/plain": [
       "<Figure size 640x480 with 12 Axes>"
      ]
     },
     "metadata": {},
     "output_type": "display_data"
    }
   ],
   "source": [
    "\"\"\"Display sample images.\"\"\"\n",
    "\n",
    "# Open images in list\n",
    "images  = [Image.open(f\"sample-images/{file_name}\") for file_name in sorted(listdir(\"sample-images\"))]\n",
    "\n",
    "# Initialize plot\n",
    "figure  = plt.figure()\n",
    "\n",
    "# Initialize grid\n",
    "grid    = ImageGrid(figure, 111, nrows_ncols = (1, 6), axes_pad  = 0.1)\n",
    "\n",
    "# Add images to grid\n",
    "for axis, image in zip(grid, images): axis.imshow(image, cmap = cm.gray)\n",
    "\n",
    "# Diplsay images\n",
    "plt.show()\n"
   ]
  },
  {
   "cell_type": "markdown",
   "metadata": {},
   "source": [
    "---"
   ]
  },
  {
   "cell_type": "markdown",
   "metadata": {},
   "source": [
    "# Wavelet Energy\n",
    "\n",
    "The wavelet transform is a mathematical technique that decomposes a signal into components at various scales and positions, allowing for the analysis of both frequency and time domain characteristics simultaneously. Unlike the Fourier transform, which only provides frequency information and loses temporal localization, the wavelet transform offers the advantage of capturing localized, transient features of a signal. This makes it particularly useful for analyzing non-stationary signals, such as images, where details and patterns vary across different regions. The ability to provide multi-resolution analysis makes the wavelet transform a powerful tool for image processing~\\cite{bayro2005multi}, enabling better detection of edges, textures, and other intricate structures compared to the Fourier transform.\n",
    "\n",
    "Given an image $I$, a wavelet $w$, and decomposition level $l$:\n",
    "* Perform the 2D wavelet decomposition: $\\text{wavedec2}(I, w, l)$.\n",
    "* For each coefficient matrix $\\text{coeff}_i$, calculate the energy: $E_i = \\sum_{j, k} \\text{coeff}_i[j, k]^2$.\n",
    "* Sum the energy of all coefficient matrices to get the total wavelet energy: $\\sum_i E_i$.\n",
    "\n",
    "$$\n",
    "E = \\sum_{i} \\sum_{j,k} \\left( \\text{coeff}_i[j,k] \\right)^2\n",
    "$$"
   ]
  },
  {
   "cell_type": "code",
   "execution_count": 36,
   "metadata": {},
   "outputs": [],
   "source": [
    "import pywt\n",
    "\n",
    "def wavelet_energy(\n",
    "        image:      array, \n",
    "        wavelet:    str = \"db2\", \n",
    "        level:      int = 1,\n",
    "        mode:       str = \"periodization\"\n",
    "    ) -> int:\n",
    "    \"\"\"# Calculate the wavelet energy of an image.\n",
    "\n",
    "    ## Args:\n",
    "        * image     (array):            Image for which the wavelet energy will be calculated.\n",
    "        * wavelet   (str, optional):    Wavelet used in transform. Defaults to 'db2'.\n",
    "        * level     (int, optional):    Level(s) of decomposition to perform. Defaults to 1.\n",
    "        * mode      (str, optional):    Mode of padding. Options: 'zero', 'constant', 'symmetric', \n",
    "                                        'periodic', 'smooth', 'periodization', 'reflect', \n",
    "                                        'antisymmetric', 'antireflect'. Defaults to 'periodization'.\n",
    "\n",
    "    ## Returns:\n",
    "        * int:  Wavelet energy of image.\n",
    "    \"\"\"\n",
    "    # Validate wavelet & mode arguments\n",
    "    assert wavelet in wavelist(),       f\"Invalid argument for wavelet: {wavelet}. Valid options: {wavelist()}\"\n",
    "    assert mode in pywt.Modes.modes,    f\"Inavlid argument for mode: {mode}. Valid options: {pywt.Modes.modes}\"\n",
    "\n",
    "    # Perform wavelet transform & calculate energy\n",
    "\n",
    "    # Calculate energy\n",
    "    return sum(sum(square(coeff)) for coeff in wavedec2(image, wavelet=wavelet, level=level, mode=mode))"
   ]
  },
  {
   "cell_type": "code",
   "execution_count": 37,
   "metadata": {},
   "outputs": [
    {
     "name": "stdout",
     "output_type": "stream",
     "text": [
      "Wavelet evergy of /home/theokoles/Projects/Image-Complexity-by-Wavelet-Decomposition/sample-images/01-white.png: 66585600.00000001\n",
      "Wavelet evergy of /home/theokoles/Projects/Image-Complexity-by-Wavelet-Decomposition/sample-images/02-black.png: 0.0\n",
      "Wavelet evergy of /home/theokoles/Projects/Image-Complexity-by-Wavelet-Decomposition/sample-images/03-2x2.png: 33292800.000000015\n",
      "Wavelet evergy of /home/theokoles/Projects/Image-Complexity-by-Wavelet-Decomposition/sample-images/04-4x4.png: 33292800.00000001\n",
      "Wavelet evergy of /home/theokoles/Projects/Image-Complexity-by-Wavelet-Decomposition/sample-images/05-8x8.png: 33292800.00000001\n",
      "Wavelet evergy of /home/theokoles/Projects/Image-Complexity-by-Wavelet-Decomposition/sample-images/06-16x16.png: 33292800.000000004\n"
     ]
    },
    {
     "name": "stderr",
     "output_type": "stream",
     "text": [
      "/tmp/ipykernel_568349/4024169959.py:29: DeprecationWarning: Calling np.sum(generator) is deprecated, and in the future will give a different result. Use np.sum(np.fromiter(generator)) or the python sum builtin instead.\n",
      "  return sum(sum(square(coeff)) for coeff in wavedec2(image, wavelet=wavelet, level=level, mode=mode))\n"
     ]
    }
   ],
   "source": [
    "\"\"\"Calculate wavelet energy of sample images.\"\"\"\n",
    "\n",
    "for image in images:\n",
    "    \n",
    "    print(f\"Wavelet evergy of {image.filename}: {wavelet_energy(image)}\")"
   ]
  },
  {
   "cell_type": "markdown",
   "metadata": {},
   "source": [
    "---"
   ]
  },
  {
   "cell_type": "markdown",
   "metadata": {},
   "source": [
    "# Wavelet Entropy\n",
    "\n",
    "Wavelet entropy, specifically Shannon entropy, is computed by first obtaining the wavelet coefficients of an image. These coefficients are then used to calculate the probability distribution of energy across different scales. Shannon entropy is derived from this distribution, providing a measure of the image's complexity and randomness by quantifying the degree of disorder or unpredictability in the energy distribution.\n",
    "\n",
    "Given an image $I$, wavelet $w$, and decomposition level $l$:\n",
    "* Perform the 2D wavelet decomposition: $\\text{wavedec2}(I, w, l)$.\n",
    "* Flatten and take the absolute value of all coefficients:\\\\ $\\text{coefficients} = \\left| \\text{coeff}_i[j, k]\\right|$.\n",
    "* Normalize the coefficients to obtain probabilities: $p_i = \\frac{\\text{coefficients}}{\\sum_j \\text{coefficients}_j}$.\n",
    "* Calculate the Shannon entropy as follows, where $\\epsilon$ is a small value added to avoid taking the log of zero\n",
    "$$\n",
    "H = -\\sum_i p_i \\log_2(p_i + \\epsilon)\n",
    "$$"
   ]
  },
  {
   "cell_type": "code",
   "execution_count": 49,
   "metadata": {},
   "outputs": [
    {
     "name": "stdout",
     "output_type": "stream",
     "text": [
      "Wavelet entropy of /home/theokoles/Projects/Image-Complexity-by-Wavelet-Decomposition/sample-images/01-white.png: 7.999999999999921\n",
      "Wavelet entropy of /home/theokoles/Projects/Image-Complexity-by-Wavelet-Decomposition/sample-images/02-black.png: nan\n",
      "Wavelet entropy of /home/theokoles/Projects/Image-Complexity-by-Wavelet-Decomposition/sample-images/03-2x2.png: 7.8772199742036575\n",
      "Wavelet entropy of /home/theokoles/Projects/Image-Complexity-by-Wavelet-Decomposition/sample-images/04-4x4.png: 8.490833186834905\n",
      "Wavelet entropy of /home/theokoles/Projects/Image-Complexity-by-Wavelet-Decomposition/sample-images/05-8x8.png: 9.321197233829126\n",
      "Wavelet entropy of /home/theokoles/Projects/Image-Complexity-by-Wavelet-Decomposition/sample-images/06-16x16.png: 9.8886920341626\n"
     ]
    },
    {
     "name": "stderr",
     "output_type": "stream",
     "text": [
      "/tmp/ipykernel_568349/528905907.py:33: RuntimeWarning: invalid value encountered in divide\n",
      "  probabilities = coefficients / sum(coefficients)\n"
     ]
    }
   ],
   "source": [
    "def wavelet_entropy(\n",
    "        image:      array, \n",
    "        wavelet:    str = \"db2\", \n",
    "        level:      int = 1,\n",
    "        mode:       str = \"periodization\"\n",
    "    ) -> float:\n",
    "    \"\"\"# Calculate the wavelet entropy of an image.\n",
    "\n",
    "    ## Args:\n",
    "        * image     (array):            Image for which the wavelet energy will be calculated.\n",
    "        * wavelet   (str, optional):    Wavelet used in transform. Defaults to 'db2'.\n",
    "        * level     (int, optional):    Level(s) of decomposition to perform. Defaults to 1.\n",
    "        * mode      (str, optional):    Mode of padding. Options: 'zero', 'constant', 'symmetric', \n",
    "                                        'periodic', 'smooth', 'periodization', 'reflect', \n",
    "                                        'antisymmetric', 'antireflect'. Defaults to 'periodization'.\n",
    "\n",
    "    ## Returns:\n",
    "        * float:    Wavelet entropy of image.\n",
    "    \"\"\"\n",
    "    # Initialize arrays to store all coefficients\n",
    "    coefficients = []\n",
    "\n",
    "    # For each level of coefficients computed...\n",
    "    for coefficient in pywt.wavedec2(data = image, wavelet = wavelet, level = level, mode = mode):\n",
    "\n",
    "        # Add their absolute values to the list\n",
    "        coefficients.extend(abs(coefficient).ravel())\n",
    "\n",
    "    # Convert them to an array\n",
    "    coefficients = array(coefficients)\n",
    "    \n",
    "    # Normalize coefficients to probabilities\n",
    "    probabilities = coefficients / sum(coefficients)\n",
    "    \n",
    "    # Return computed Shannon entropy\n",
    "    return -sum(probabilities * log2(probabilities + finfo(float).eps))\n",
    "\n",
    "\"\"\"Calculate wavelet entropy of sample images.\"\"\"\n",
    "\n",
    "for image in images:\n",
    "    \n",
    "    print(f\"Wavelet entropy of {image.filename}: {wavelet_entropy(image)}\")"
   ]
  },
  {
   "cell_type": "markdown",
   "metadata": {},
   "source": [
    "---"
   ]
  },
  {
   "cell_type": "markdown",
   "metadata": {},
   "source": [
    "# Root Mean Squared Error\n",
    "\n",
    "RMSE has seen great success in measuring visual complexity in humans, and its speed makes it an ideal and intuitive choice for measuring image complexity. Root Mean Square Error in this case refers to the difference between the original image and the image after shrinking it by half, resizing it back to full size, computing the average of the squared pixel values of the difference, then taking the square root.\n",
    "\n",
    "Given an image $I$ with dimensions $(H, W)$:\n",
    "\n",
    "\n",
    "* Let $I_{\\text{small}}$ be the image resized to $(\\frac{H}{2}, \\frac{W}{2})$.\n",
    "* Let $I_{\\text{resized}}$ be $I_{\\text{small}}$ resized back to $(H, W)$.\n",
    "* Compute the element-wise squared difference: $(I - I_{\\text{resized}})^2$.\n",
    "* Compute the mean of the squared differences.\n",
    "* The $RMSE$ is then the square root of the mean.\n",
    "\n",
    "$$\n",
    "RMSE = \\sqrt{\\frac{1}{HW} \\sum_{i=1}^{H} \\sum_{j=1}^{W} \\left( I_{ij} - I_{\\text{resized}, ij} \\right)^2}\n",
    "$$"
   ]
  },
  {
   "cell_type": "code",
   "execution_count": 43,
   "metadata": {},
   "outputs": [
    {
     "name": "stdout",
     "output_type": "stream",
     "text": [
      "RMSE of /home/theokoles/Projects/Image-Complexity-by-Wavelet-Decomposition/sample-images/01-white.png: 0.0\n",
      "RMSE of /home/theokoles/Projects/Image-Complexity-by-Wavelet-Decomposition/sample-images/02-black.png: 0.0\n",
      "RMSE of /home/theokoles/Projects/Image-Complexity-by-Wavelet-Decomposition/sample-images/03-2x2.png: 3.5930705879512024\n",
      "RMSE of /home/theokoles/Projects/Image-Complexity-by-Wavelet-Decomposition/sample-images/04-4x4.png: 4.577458355900139\n",
      "RMSE of /home/theokoles/Projects/Image-Complexity-by-Wavelet-Decomposition/sample-images/05-8x8.png: 7.3702315092539665\n",
      "RMSE of /home/theokoles/Projects/Image-Complexity-by-Wavelet-Decomposition/sample-images/06-16x16.png: 8.806957476904268\n"
     ]
    }
   ],
   "source": [
    "from numpy  import asarray, mean, ndarray, sqrt\n",
    "\n",
    "def rmse(image: ndarray) -> float:\n",
    "    \"\"\"# Calculates the root mean squared error between an image and it's compressed/resized form.\n",
    "\n",
    "    ## Args:\n",
    "        * image (array):    Image input.\n",
    "\n",
    "    ## Returns:\n",
    "        * float:    Root mean squared error.\n",
    "    \"\"\"\n",
    "    # Record image shape\n",
    "    shape:  tuple = array(image).shape\n",
    "    \n",
    "    # Calculate & return RMSE\n",
    "    return sqrt(mean(\n",
    "        (image - asarray(\n",
    "            image.resize((shape[1] // 2, shape[0] // 2)).resize((shape[1], shape[0]))\n",
    "        )) ** 2\n",
    "    ))\n",
    "    \n",
    "\"\"\"Calculate root mean squared error of sample images.\"\"\"\n",
    "\n",
    "for image in images:\n",
    "    \n",
    "    print(f\"RMSE of {image.filename}: {rmse(image)}\")"
   ]
  },
  {
   "cell_type": "markdown",
   "metadata": {},
   "source": [
    "---"
   ]
  },
  {
   "cell_type": "markdown",
   "metadata": {},
   "source": [
    "# Spatial Frequency\n",
    "\n",
    "Spatial Frequency is unique from the other metrics we used in that it does not rely on edges or borders, but on a Fourier Analysis of an image. Although a contested topic and a rudimentary metric for calculating organic visual perception, the function's speed and unique properties make it a considerable choice for an experimental metric.\n",
    "\n",
    "Given an image $I$ with dimensions $(H, W, 3)$:\n",
    "* Convert the image to grayscale $I_{\\text{gray}}$.\n",
    "* Compute the 2D Fourier transform of the grayscale image $\\mathcal{F}(I_{\\text{gray}})$.\n",
    "* Compute the 2D Fourier transform of each RGB channel $\\mathcal{F}(I_{\\text{R}})$, $\\mathcal{F}(I_{\\text{G}})$, $\\mathcal{F}(I_{\\text{B}})$.\n",
    "* The spatial frequency will be the sum of the absolute values of the 2D Fourier transforms.\n",
    "\n",
    "$$\n",
    "\\text{SF} = \\left| \\mathcal{F}(I_{\\text{gray}}) \\right| + \\left| \\mathcal{F}(I_{\\text{R}}) \\right| + \\left| \\mathcal{F}(I_{\\text{G}}) \\right| + \\left| \\mathcal{F}(I_{\\text{B}}) \\right|\n",
    "$$"
   ]
  },
  {
   "cell_type": "code",
   "execution_count": 48,
   "metadata": {},
   "outputs": [
    {
     "name": "stdout",
     "output_type": "stream",
     "text": [
      "Spatial frequency of /home/theokoles/Projects/Image-Complexity-by-Wavelet-Decomposition/sample-images/01-white.png: 261120.0\n",
      "Spatial frequency of /home/theokoles/Projects/Image-Complexity-by-Wavelet-Decomposition/sample-images/02-black.png: 0.0\n",
      "Spatial frequency of /home/theokoles/Projects/Image-Complexity-by-Wavelet-Decomposition/sample-images/03-2x2.png: 1102027.2537368077\n",
      "Spatial frequency of /home/theokoles/Projects/Image-Complexity-by-Wavelet-Decomposition/sample-images/04-4x4.png: 813446.5724589333\n",
      "Spatial frequency of /home/theokoles/Projects/Image-Complexity-by-Wavelet-Decomposition/sample-images/05-8x8.png: 576319.7227034313\n",
      "Spatial frequency of /home/theokoles/Projects/Image-Complexity-by-Wavelet-Decomposition/sample-images/06-16x16.png: 391680.0\n"
     ]
    }
   ],
   "source": [
    "from numpy      import abs, asarray, ndarray, sum\n",
    "from numpy.fft  import fft2\n",
    "from PIL        import Image\n",
    "\n",
    "def spatial_frequency(image: ndarray) -> float:\n",
    "    \"\"\"# Calculate the spatial frequency of an image.\n",
    "\n",
    "    ## Args:\n",
    "        * image (ndarray):  Image input.\n",
    "\n",
    "    ## Returns:\n",
    "        * float:    Spatial frequency of image channels (gray, red, green, blue).\n",
    "    \"\"\"\n",
    "    image = asarray(image)\n",
    "    # Calculate Fourier transform of each channel\n",
    "    return sum([\n",
    "        abs(fft2(asarray(Image.fromarray(image).convert(\"L\")))),\n",
    "        # abs(fft2(image[:, :, 0])),\n",
    "        # abs(fft2(image[:, :, 1])),\n",
    "        # abs(fft2(image[:, :, 2]))\n",
    "    ])\n",
    "    \n",
    "\"\"\"Calculate spatial frequency of sample images.\"\"\"\n",
    "\n",
    "for image in images:\n",
    "    \n",
    "    print(f\"Spatial frequency of {image.filename}: {spatial_frequency(image)}\")"
   ]
  }
 ],
 "metadata": {
  "kernelspec": {
   "display_name": "cl",
   "language": "python",
   "name": "python3"
  },
  "language_info": {
   "codemirror_mode": {
    "name": "ipython",
    "version": 3
   },
   "file_extension": ".py",
   "mimetype": "text/x-python",
   "name": "python",
   "nbconvert_exporter": "python",
   "pygments_lexer": "ipython3",
   "version": "3.12.4"
  }
 },
 "nbformat": 4,
 "nbformat_minor": 2
}
