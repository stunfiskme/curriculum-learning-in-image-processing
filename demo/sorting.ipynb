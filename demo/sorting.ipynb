{
 "cells": [
  {
   "cell_type": "markdown",
   "metadata": {},
   "source": [
    "# Demonstration & Explanation of Curriculums\n",
    "\n",
    "## Table of Contents\n",
    "* [Ascending](#ascending)\n",
    "* [Descending](#descending)\n",
    "* [Distance From the Mean](#distance-from-the-mean)"
   ]
  },
  {
   "cell_type": "markdown",
   "metadata": {},
   "source": [
    "## Ascending\n",
    "\n",
    "This sorting method is simply ordering items from least to greatest."
   ]
  },
  {
   "cell_type": "code",
   "execution_count": 2,
   "metadata": {},
   "outputs": [
    {
     "name": "stdout",
     "output_type": "stream",
     "text": [
      "Original list of letters:   ['a', 'u', 'k', 'e', 'g', 'q', 'd', 'b', 'c']\n",
      "Sorted list of letters:     ['a', 'b', 'c', 'd', 'e', 'g', 'k', 'q', 'u']\n",
      "-------\n",
      "Original list of numbers:   [4, 8, 2, 5, 9, 1, 3, 7, 6, 0]\n",
      "Sorted list of numbers:     [0, 1, 2, 3, 4, 5, 6, 7, 8, 9]\n"
     ]
    }
   ],
   "source": [
    "\"\"\"Sort items in ascending order.\"\"\"\n",
    "\n",
    "# Alphabetical\n",
    "letters:    list    = [\"a\", \"u\", \"k\", \"e\", \"g\", \"q\", \"d\", \"b\", \"c\"]\n",
    "\n",
    "print(f\"Original list of letters:   {letters}\")\n",
    "print(f\"Sorted list of letters:     {sorted(letters)}\")\n",
    "\n",
    "print(\"-------\")\n",
    "\n",
    "# Numerical\n",
    "numbers:    list    = [4, 8, 2, 5, 9, 1, 3, 7, 6, 0]\n",
    "\n",
    "print(f\"Original list of numbers:   {numbers}\")\n",
    "print(f\"Sorted list of numbers:     {sorted(numbers)}\")"
   ]
  },
  {
   "cell_type": "markdown",
   "metadata": {},
   "source": [
    "## Descending\n",
    "\n",
    "This sorting method is simply ordering items from greatest to least."
   ]
  },
  {
   "cell_type": "code",
   "execution_count": 3,
   "metadata": {},
   "outputs": [
    {
     "name": "stdout",
     "output_type": "stream",
     "text": [
      "Original list of letters:   ['a', 'u', 'k', 'e', 'g', 'q', 'd', 'b', 'c']\n",
      "Sorted list of letters:     ['u', 'q', 'k', 'g', 'e', 'd', 'c', 'b', 'a']\n",
      "-------\n",
      "Original list of numbers:   [4, 8, 2, 5, 9, 1, 3, 7, 6, 0]\n",
      "Sorted list of numbers:     [9, 8, 7, 6, 5, 4, 3, 2, 1, 0]\n"
     ]
    }
   ],
   "source": [
    "\"\"\"Sort items in descending order.\"\"\"\n",
    "\n",
    "# Alphabetical\n",
    "letters:    list    = [\"a\", \"u\", \"k\", \"e\", \"g\", \"q\", \"d\", \"b\", \"c\"]\n",
    "\n",
    "print(f\"Original list of letters:   {letters}\")\n",
    "print(f\"Sorted list of letters:     {sorted(letters, reverse = True)}\")\n",
    "\n",
    "print(\"-------\")\n",
    "\n",
    "# Numerical\n",
    "numbers:    list    = [4, 8, 2, 5, 9, 1, 3, 7, 6, 0]\n",
    "\n",
    "print(f\"Original list of numbers:   {numbers}\")\n",
    "print(f\"Sorted list of numbers:     {sorted(numbers, reverse = True)}\")"
   ]
  },
  {
   "cell_type": "markdown",
   "metadata": {},
   "source": [
    "## Distance From the Mean\n",
    "\n",
    "This sorting method will work as follows:\n",
    "* Given a list of elements\n",
    "* Compute the average value of those elements\n",
    "* Sort the elements by the magnitude of their distance from the average"
   ]
  },
  {
   "cell_type": "code",
   "execution_count": 5,
   "metadata": {},
   "outputs": [
    {
     "name": "stdout",
     "output_type": "stream",
     "text": [
      "Numbers list: [4, 8, 2, 5, 9, 1, 3, 7, 6, 0]\n",
      "Average of [4, 8, 2, 5, 9, 1, 3, 7, 6, 0] = 4.5\n",
      "-------\n",
      "Distance of 4 from 4.5 = 0.5\n",
      "Distance of 8 from 4.5 = 3.5\n",
      "Distance of 2 from 4.5 = 2.5\n",
      "Distance of 5 from 4.5 = 0.5\n",
      "Distance of 9 from 4.5 = 4.5\n",
      "Distance of 1 from 4.5 = 3.5\n",
      "Distance of 3 from 4.5 = 1.5\n",
      "Distance of 7 from 4.5 = 2.5\n",
      "Distance of 6 from 4.5 = 1.5\n",
      "Distance of 0 from 4.5 = 4.5\n",
      "-------\n",
      "Sorted numbers: [4, 5, 3, 6, 2, 7, 8, 1, 9, 0]\n"
     ]
    }
   ],
   "source": [
    "\"\"\"Sort items by distance from the mean.\"\"\"\n",
    "\n",
    "from statistics import mean\n",
    "\n",
    "# Numerical\n",
    "numbers:    list    = [4, 8, 2, 5, 9, 1, 3, 7, 6, 0]\n",
    "\n",
    "# Print numbers\n",
    "print(f\"Numbers list: {numbers}\")\n",
    "\n",
    "# Compute the average of the elements\n",
    "average:    int     = mean(numbers)\n",
    "\n",
    "# Print average\n",
    "print(f\"Average of {numbers} = {average}\")\n",
    "\n",
    "print(\"-------\")\n",
    "\n",
    "# Compute distance of each number from mean\n",
    "for number in numbers: print(f\"Distance of {number} from {average} = {abs(number - average)}\")\n",
    "\n",
    "print(\"-------\")\n",
    "\n",
    "# Print the numbers sorted according to their distance\n",
    "print(f\"Sorted numbers: {sorted(numbers, key = lambda x: abs(x - average))}\")"
   ]
  }
 ],
 "metadata": {
  "kernelspec": {
   "display_name": "cl",
   "language": "python",
   "name": "python3"
  },
  "language_info": {
   "codemirror_mode": {
    "name": "ipython",
    "version": 3
   },
   "file_extension": ".py",
   "mimetype": "text/x-python",
   "name": "python",
   "nbconvert_exporter": "python",
   "pygments_lexer": "ipython3",
   "version": "3.12.4"
  }
 },
 "nbformat": 4,
 "nbformat_minor": 2
}
