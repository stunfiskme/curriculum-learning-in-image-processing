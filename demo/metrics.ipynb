{
 "cells": [
  {
   "cell_type": "markdown",
   "metadata": {},
   "source": [
    "# Demonstration & Explanations of Image Complexity Metrics\n",
    "\n",
    "This notebook will demonstrate several calculations used to estimate the degree of complexity that an image possesses.\n",
    "\n",
    "The metrics documented here will be used to sort images based on their calculated complexity. In doing so, we may implement a curriculum by which a neural network can train on said images, such that they extract features in a manner more efficient than training on randomly shuffled images.\n",
    "\n",
    "## Table of Contents:\n",
    "* [Generating Sample Images](#sample-images)\n",
    "* Metrics\n",
    "    * [Wavelet Energy](#wavelet-energy)\n",
    "    * [Wavelet Entropy](#wavelet-entropy)\n",
    "    * [Root Mean Squared Error](#root-mean-squared-error)\n",
    "    * [Spatial Frequency](#spatial-frequency)\n",
    "    * [Texture Complexity](#texture-complexity)\n",
    "    * [Edge Density](#edge-density)\n",
    "    * [Fractal Dimensions](#fractal-dimensions)"
   ]
  },
  {
   "cell_type": "markdown",
   "metadata": {},
   "source": [
    "---"
   ]
  },
  {
   "cell_type": "markdown",
   "metadata": {},
   "source": [
    "## Sample Images\n",
    "\n",
    "First, we need images that we can reasonably say are more/less complex than each other. For this purpose we will generate 6 black and white images. One solid black, one solid white, a 2x2 checker board, 4x4, 8x8, and 16x16."
   ]
  },
  {
   "cell_type": "code",
   "execution_count": 15,
   "metadata": {},
   "outputs": [
    {
     "data": {
      "image/png": "[encoded data removed]",
      "text/plain": [
       "<Figure size 640x480 with 12 Axes>"
      ]
     },
     "metadata": {},
     "output_type": "display_data"
    }
   ],
   "source": [
    "\"\"\"Generate sample images.\"\"\"\n",
    "\n",
    "from PIL                        import Image\n",
    "from matplotlib                 import cm, pyplot as plt\n",
    "from mpl_toolkits.axes_grid1    import ImageGrid\n",
    "\n",
    "# Initialize images dictionary\n",
    "images: dict[str, any]  = {}\n",
    "\n",
    "# Create solid black & white images\n",
    "images.update({\"white\": Image.new(\"L\", (32, 32), 255)})\n",
    "images.update({\"black\": Image.new(\"L\", (32, 32), 0)})\n",
    "\n",
    "# Create checkered images\n",
    "for e in range(1, 5):\n",
    "    \n",
    "    # Determine size of each square\n",
    "    square_dim: int     = 32 // 2**e\n",
    "    \n",
    "    # Initialize image\n",
    "    img:        Image   = Image.new(\"L\", (32, 32))\n",
    "    \n",
    "    # Color the image\n",
    "    for x in range(32):\n",
    "        for y in range(32):\n",
    "            img.putpixel((x, y), 255 if ((x // square_dim) + (y // square_dim)) % 2 == 0 else 0)\n",
    "            \n",
    "    # Add to dictionary\n",
    "    images.update({f\"{2**e}x{2**e}\": img})\n",
    "\n",
    "# Initialize plot\n",
    "figure  = plt.figure()\n",
    "\n",
    "# Initialize grid\n",
    "grid    = ImageGrid(figure, 111, nrows_ncols = (1, 6), axes_pad  = 0.1)\n",
    "\n",
    "# Add images to grid\n",
    "for axis, image in zip(grid, images.values()): axis.imshow(image, cmap = cm.gray, vmin = 0, vmax = 255)\n",
    "\n",
    "# Diplsay images\n",
    "plt.show()"
   ]
  },
  {
   "cell_type": "markdown",
   "metadata": {},
   "source": [
    "---"
   ]
  },
  {
   "cell_type": "markdown",
   "metadata": {},
   "source": [
    "# Wavelet Energy\n",
    "\n",
    "The wavelet transform is a mathematical technique that decomposes a signal into components at various scales and positions, allowing for the analysis of both frequency and time domain characteristics simultaneously. \n",
    "\n",
    "Unlike the Fourier transform, which only provides frequency information and loses temporal localization, the wavelet transform offers the advantage of capturing localized, transient features of a signal. This makes it particularly useful for analyzing non-stationary signals, such as images, where details and patterns vary across different regions. The ability to provide multi-resolution analysis makes the wavelet transform a powerful tool for image processing~\\cite{bayro2005multi}, enabling better detection of edges, textures, and other intricate structures compared to the Fourier transform.\n",
    "\n",
    "Given an image $I$, a wavelet $w$, and decomposition level $l$:\n",
    "* Perform the 2D wavelet decomposition: $\\text{wavedec2}(I, w, l)$.\n",
    "* For each coefficient matrix $\\text{coeff}_i$, calculate the energy: $E_i = \\sum_{j, k} \\text{coeff}_i[j, k]^2$.\n",
    "* Sum the energy of all coefficient matrices to get the total wavelet energy: $\\sum_i E_i$.\n",
    "\n",
    "$$\n",
    "E = \\sum_{i} \\sum_{j,k} \\left( \\text{coeff}_i[j,k] \\right)^2\n",
    "$$\n",
    "\n",
    "Reference(s):\n",
    "* [Decomposition of Hardy Functions into Square Integrable Wavelets of Constant Shape](https://epubs.siam.org/doi/10.1137/0515056)"
   ]
  },
  {
   "cell_type": "code",
   "execution_count": 13,
   "metadata": {},
   "outputs": [
    {
     "name": "stdout",
     "output_type": "stream",
     "text": [
      "Wavelet evergy of white:   66585600.000000007\n",
      "Wavelet evergy of black:          0.000000000\n",
      "Wavelet evergy of 2x2  :   33292800.000000015\n",
      "Wavelet evergy of 4x4  :   33292800.000000011\n",
      "Wavelet evergy of 8x8  :   33292800.000000011\n",
      "Wavelet evergy of 16x16:   33292800.000000004\n"
     ]
    }
   ],
   "source": [
    "\n",
    "\"\"\"Define & calculate wavelet energy of sample images.\"\"\"\n",
    "\n",
    "from numpy  import abs, array, log2, square, sum\n",
    "from pywt   import wavedec2, wavelist\n",
    "\n",
    "import pywt\n",
    "\n",
    "def wavelet_energy(\n",
    "        image:      array, \n",
    "        wavelet:    str = \"db2\", \n",
    "        level:      int = 1,\n",
    "        mode:       str = \"periodization\"\n",
    "    ) -> int:\n",
    "    \"\"\"# Calculate the wavelet energy of an image.\n",
    "\n",
    "    ## Args:\n",
    "        * image     (array):            Image for which the wavelet energy will be calculated.\n",
    "        * wavelet   (str, optional):    Wavelet used in transform. Defaults to 'db2'.\n",
    "        * level     (int, optional):    Level(s) of decomposition to perform. Defaults to 1.\n",
    "        * mode      (str, optional):    Mode of padding. Options: 'zero', 'constant', 'symmetric', \n",
    "                                        'periodic', 'smooth', 'periodization', 'reflect', \n",
    "                                        'antisymmetric', 'antireflect'. Defaults to 'periodization'.\n",
    "\n",
    "    ## Returns:\n",
    "        * int:  Wavelet energy of image.\n",
    "    \"\"\"\n",
    "    # Validate wavelet & mode arguments\n",
    "    assert wavelet in wavelist(),       f\"Invalid argument for wavelet: {wavelet}. Valid options: {wavelist()}\"\n",
    "    assert mode in pywt.Modes.modes,    f\"Inavlid argument for mode: {mode}. Valid options: {pywt.Modes.modes}\"\n",
    "\n",
    "    # Calculate energy\n",
    "    return sum([sum(square(coeff)) for coeff in wavedec2(image, wavelet=wavelet, level=level, mode=mode)])\n",
    "\n",
    "# Calculate wavelet energy of samples\n",
    "for name, image in images.items(): print(f\"Wavelet evergy of {name:5}: {wavelet_energy(image):20.9f}\")"
   ]
  },
  {
   "cell_type": "markdown",
   "metadata": {},
   "source": [
    "---"
   ]
  },
  {
   "cell_type": "markdown",
   "metadata": {},
   "source": [
    "# Wavelet Entropy\n",
    "\n",
    "Wavelet entropy, specifically Shannon entropy, is computed by first obtaining the wavelet coefficients of an image. These coefficients are then used to calculate the probability distribution of energy across different scales. Shannon entropy is derived from this distribution, providing a measure of the image's complexity and randomness by quantifying the degree of disorder or unpredictability in the energy distribution.\n",
    "\n",
    "Given an image $I$, wavelet $w$, and decomposition level $l$:\n",
    "* Perform the 2D wavelet decomposition: $\\text{wavedec2}(I, w, l)$.\n",
    "* Flatten and take the absolute value of all coefficients: $\\text{coefficients} = \\left| \\text{coeff}_i[j, k]\\right|$.\n",
    "* Normalize the coefficients to obtain probabilities: $p_i = \\frac{\\text{coefficients} + \\epsilon}{\\sum_j \\text{coefficients}_j + \\epsilon}$.\n",
    "* Calculate the Shannon entropy as follows, where $\\epsilon$ is a small value added to avoid taking the log of zero\n",
    "$$\n",
    "H = -\\sum_i p_i \\log_2(p_i + \\epsilon)\n",
    "$$\n",
    "\n",
    "Reference(s):\n",
    "* [Wavelet entropy: a new tool for analyzing time-series](https://www.researchgate.net/publication/12164427_Wavelet_entropy_A_new_tool_for_analysis_of_short_duration_brain_electrical_signals)"
   ]
  },
  {
   "cell_type": "code",
   "execution_count": 12,
   "metadata": {},
   "outputs": [
    {
     "name": "stdout",
     "output_type": "stream",
     "text": [
      "Wavelet entropy of white:          8.283457315\n",
      "Wavelet entropy of black:         -0.000000000\n",
      "Wavelet entropy of 2x2  :          8.302744113\n",
      "Wavelet entropy of 4x4  :          8.819395636\n",
      "Wavelet entropy of 8x8  :          9.526450731\n",
      "Wavelet entropy of 16x16:         10.029552916\n"
     ]
    }
   ],
   "source": [
    "\"\"\"Define & calculate wavelet entropy of sample images.\"\"\"\n",
    "\n",
    "from math   import e\n",
    "from numpy  import abs, array, finfo, log2, square, sum\n",
    "from pywt   import wavedec2\n",
    "\n",
    "def wavelet_entropy(\n",
    "        image:      array, \n",
    "        wavelet:    str = \"db2\", \n",
    "        level:      int = 1,\n",
    "        mode:       str = \"periodization\"\n",
    "    ) -> float:\n",
    "    \"\"\"# Calculate the wavelet entropy of an image.\n",
    "\n",
    "    ## Args:\n",
    "        * image     (array):            Image for which the wavelet energy will be calculated.\n",
    "        * wavelet   (str, optional):    Wavelet used in transform. Defaults to 'db2'.\n",
    "        * level     (int, optional):    Level(s) of decomposition to perform. Defaults to 1.\n",
    "        * mode      (str, optional):    Mode of padding. Options: 'zero', 'constant', 'symmetric', \n",
    "                                        'periodic', 'smooth', 'periodization', 'reflect', \n",
    "                                        'antisymmetric', 'antireflect'. Defaults to 'periodization'.\n",
    "\n",
    "    ## Returns:\n",
    "        * float:    Wavelet entropy of image.\n",
    "    \"\"\"\n",
    "    # Initialize arrays to store all coefficients\n",
    "    coefficients = []\n",
    "\n",
    "    # For each level of coefficients computed...\n",
    "    for coefficient in wavedec2(data = image, wavelet = wavelet, level = level, mode = mode):\n",
    "\n",
    "        # Add their absolute values to the list\n",
    "        coefficients.extend(abs(coefficient).ravel())\n",
    "\n",
    "    # Convert them to an array\n",
    "    coefficients = array(coefficients)\n",
    "    \n",
    "    # Normalize coefficients to probabilities\n",
    "    probabilities = (coefficients + e) / (sum(coefficients) + e)\n",
    "    \n",
    "    # Return computed Shannon entropy\n",
    "    return -sum(probabilities * log2(probabilities + finfo(float).eps))\n",
    "\n",
    "# Calculate wavelet entropy of samples\n",
    "for name, image in images.items(): print(f\"Wavelet entropy of {name:5}: {wavelet_entropy(image):20.9f}\")"
   ]
  },
  {
   "cell_type": "markdown",
   "metadata": {},
   "source": [
    "---"
   ]
  },
  {
   "cell_type": "markdown",
   "metadata": {},
   "source": [
    "# Root Mean Squared Error\n",
    "\n",
    "RMSE has seen great success in measuring visual complexity in humans, and its speed makes it an ideal and intuitive choice for measuring image complexity. Root Mean Square Error in this case refers to the difference between the original image and the image after shrinking it by half, resizing it back to full size, computing the average of the squared pixel values of the difference, then taking the square root.\n",
    "\n",
    "Given an image $I$ with dimensions $(H, W)$:\n",
    "\n",
    "\n",
    "* Let $I_{\\text{small}}$ be the image resized to $(\\frac{H}{2}, \\frac{W}{2})$.\n",
    "* Let $I_{\\text{resized}}$ be $I_{\\text{small}}$ resized back to $(H, W)$.\n",
    "* Compute the element-wise squared difference: $(I - I_{\\text{resized}})^2$.\n",
    "* Compute the mean of the squared differences.\n",
    "* The $RMSE$ is then the square root of the mean.\n",
    "\n",
    "$$\n",
    "RMSE = \\sqrt{\\frac{1}{HW} \\sum_{i=1}^{H} \\sum_{j=1}^{W} \\left( I_{ij} - I_{\\text{resized}, ij} \\right)^2}\n",
    "$$\n",
    "\n",
    "Reference(s):\n",
    "* [Spatial Frequency Analysis in the Visual System](https://www.cns.nyu.edu/~shapley/Publications/Shapley-Lennie1985.pdf)"
   ]
  },
  {
   "cell_type": "code",
   "execution_count": 11,
   "metadata": {},
   "outputs": [
    {
     "name": "stdout",
     "output_type": "stream",
     "text": [
      "Root mean squared error of white:          0.000000000\n",
      "Root mean squared error of black:          0.000000000\n",
      "Root mean squared error of 2x2  :          3.593070588\n",
      "Root mean squared error of 4x4  :          4.577458356\n",
      "Root mean squared error of 8x8  :          7.370231509\n",
      "Root mean squared error of 16x16:          8.806957477\n"
     ]
    }
   ],
   "source": [
    "\"\"\"Define & calculate root mean squared error of sample images.\"\"\"\n",
    "\n",
    "from numpy  import array, asarray, mean, ndarray, sqrt\n",
    "\n",
    "def rmse(image: ndarray) -> float:\n",
    "    \"\"\"# Calculates the root mean squared error between an image and it's compressed/resized form.\n",
    "\n",
    "    ## Args:\n",
    "        * image (array):    Image input.\n",
    "\n",
    "    ## Returns:\n",
    "        * float:    Root mean squared error.\n",
    "    \"\"\"\n",
    "    # Record image shape\n",
    "    shape:  tuple = array(image).shape\n",
    "    \n",
    "    # Calculate & return RMSE\n",
    "    return sqrt(mean(\n",
    "        (image - asarray(\n",
    "            image.resize((shape[1] // 2, shape[0] // 2)).resize((shape[1], shape[0]))\n",
    "        )) ** 2\n",
    "    ))\n",
    "\n",
    "# Calculate root mean squared error of samples\n",
    "for name, image in images.items(): print(f\"Root mean squared error of {name:5}: {rmse(image):20.9f}\")"
   ]
  },
  {
   "cell_type": "markdown",
   "metadata": {},
   "source": [
    "---"
   ]
  },
  {
   "cell_type": "markdown",
   "metadata": {},
   "source": [
    "# Spatial Frequency\n",
    "\n",
    "Spatial Frequency is unique from the other metrics we used in that it does not rely on edges or borders, but on a Fourier Analysis of an image. Although a contested topic and a rudimentary metric for calculating organic visual perception, the function's speed and unique properties make it a considerable choice for an experimental metric.\n",
    "\n",
    "Given an image $I$ with dimensions $(H, W, 3)$:\n",
    "* Convert the image to grayscale $I_{\\text{gray}}$.\n",
    "* Compute the 2D Fourier transform of the grayscale image $\\mathcal{F}(I_{\\text{gray}})$.\n",
    "* Compute the 2D Fourier transform of each RGB channel $\\mathcal{F}(I_{\\text{R}})$, $\\mathcal{F}(I_{\\text{G}})$, $\\mathcal{F}(I_{\\text{B}})$.\n",
    "* The spatial frequency will be the sum of the absolute values of the 2D Fourier transforms.\n",
    "\n",
    "$$\n",
    "\\text{SF} = \\left| \\mathcal{F}(I_{\\text{gray}}) \\right| + \\left| \\mathcal{F}(I_{\\text{R}}) \\right| + \\left| \\mathcal{F}(I_{\\text{G}}) \\right| + \\left| \\mathcal{F}(I_{\\text{B}}) \\right|\n",
    "$$\n",
    "\n",
    "Reference(s):\n",
    "* [Spatial Frequency and the Performance of Image-Based Visual Complexities](https://ieeexplore.ieee.org/iel7/6287639/6514899/09103062.pdf)"
   ]
  },
  {
   "cell_type": "code",
   "execution_count": 9,
   "metadata": {},
   "outputs": [
    {
     "name": "stdout",
     "output_type": "stream",
     "text": [
      "Spatial frequency of white:     261120.000000000\n",
      "Spatial frequency of black:          0.000000000\n",
      "Spatial frequency of 2x2  :    1102027.253736808\n",
      "Spatial frequency of 4x4  :     813446.572458933\n",
      "Spatial frequency of 8x8  :     576319.722703431\n",
      "Spatial frequency of 16x16:     391680.000000000\n"
     ]
    }
   ],
   "source": [
    "\"\"\"Define & calculate spatial frequency of sample images.\"\"\"\n",
    "\n",
    "from numpy      import abs, asarray, ndarray, sum\n",
    "from numpy.fft  import fft2\n",
    "from PIL        import Image\n",
    "\n",
    "def spatial_frequency(image: ndarray) -> float:\n",
    "    \"\"\"# Calculate the spatial frequency of an image.\n",
    "\n",
    "    ## Args:\n",
    "        * image (ndarray):  Image input.\n",
    "\n",
    "    ## Returns:\n",
    "        * float:    Spatial frequency of image channels (gray, red, green, blue).\n",
    "    \"\"\"\n",
    "    # Calculate Fourier transform of each channel\n",
    "    return sum([\n",
    "        abs(fft2(asarray(Image.fromarray(asarray(image)).convert(\"L\")))),\n",
    "        # abs(fft2(image[:, :, 0])),\n",
    "        # abs(fft2(image[:, :, 1])),\n",
    "        # abs(fft2(image[:, :, 2]))\n",
    "    ])\n",
    "\n",
    "# Calculate spatial frequency of samples\n",
    "for name, image in images.items(): print(f\"Spatial frequency of {name:5}: {spatial_frequency(image):20.9f}\")"
   ]
  },
  {
   "cell_type": "markdown",
   "metadata": {},
   "source": [
    "---"
   ]
  },
  {
   "cell_type": "markdown",
   "metadata": {},
   "source": [
    "# Texture Complexity\n",
    "\n",
    "*Enter description*\n",
    "\n",
    "*Enter steps taken in algorithm and the formal mathematical definition*"
   ]
  },
  {
   "cell_type": "code",
   "execution_count": 44,
   "metadata": {},
   "outputs": [
    {
     "ename": "TypeError",
     "evalue": "unsupported format string passed to NoneType.__format__",
     "output_type": "error",
     "traceback": [
      "\u001b[0;31m---------------------------------------------------------------------------\u001b[0m",
      "\u001b[0;31mTypeError\u001b[0m                                 Traceback (most recent call last)",
      "Cell \u001b[0;32mIn[44], line 19\u001b[0m\n\u001b[1;32m      8\u001b[0m \u001b[38;5;250m    \u001b[39m\u001b[38;5;124;03m\"\"\"# _summary_\u001b[39;00m\n\u001b[1;32m      9\u001b[0m \n\u001b[1;32m     10\u001b[0m \u001b[38;5;124;03m    ## Args:\u001b[39;00m\n\u001b[0;32m   (...)\u001b[0m\n\u001b[1;32m     14\u001b[0m \u001b[38;5;124;03m        * int:  _description_\u001b[39;00m\n\u001b[1;32m     15\u001b[0m \u001b[38;5;124;03m    \"\"\"\u001b[39;00m\n\u001b[1;32m     16\u001b[0m     \u001b[38;5;66;03m# Implement calculation of texture complexity\u001b[39;00m\n\u001b[1;32m     17\u001b[0m \n\u001b[1;32m     18\u001b[0m \u001b[38;5;66;03m# Calculate texture complexity of samples\u001b[39;00m\n\u001b[0;32m---> 19\u001b[0m \u001b[38;5;28;01mfor\u001b[39;00m name, image \u001b[38;5;129;01min\u001b[39;00m images\u001b[38;5;241m.\u001b[39mitems(): \u001b[38;5;28mprint\u001b[39m(\u001b[38;5;124mf\u001b[39m\u001b[38;5;124m\"\u001b[39m\u001b[38;5;124mTexture complexity of \u001b[39m\u001b[38;5;132;01m{\u001b[39;00mname\u001b[38;5;132;01m:\u001b[39;00m\u001b[38;5;124m5\u001b[39m\u001b[38;5;132;01m}\u001b[39;00m\u001b[38;5;124m: \u001b[39m\u001b[38;5;132;01m{\u001b[39;00mtexture_complexity(image)\u001b[38;5;132;01m:\u001b[39;00m\u001b[38;5;124m20.9f\u001b[39m\u001b[38;5;132;01m}\u001b[39;00m\u001b[38;5;124m\"\u001b[39m)\n",
      "\u001b[0;31mTypeError\u001b[0m: unsupported format string passed to NoneType.__format__"
     ]
    }
   ],
   "source": [
    "\"\"\"Define & calculate texture complexity of sample images.\"\"\"\n",
    "\n",
    "from numpy  import ndarray\n",
    "\n",
    "def texture_complexity(\n",
    "    image:  ndarray\n",
    ") -> int:\n",
    "    \"\"\"# _summary_\n",
    "\n",
    "    ## Args:\n",
    "        * image (ndarray):  _description_\n",
    "\n",
    "    ## Returns:\n",
    "        * int:  _description_\n",
    "    \"\"\"\n",
    "    # Implement calculation of texture complexity\n",
    "\n",
    "# Calculate texture complexity of samples\n",
    "for name, image in images.items(): print(f\"Texture complexity of {name:5}: {texture_complexity(image):20.9f}\")"
   ]
  },
  {
   "cell_type": "markdown",
   "metadata": {},
   "source": [
    "---"
   ]
  },
  {
   "cell_type": "markdown",
   "metadata": {},
   "source": [
    "# Edge Density\n",
    "\n",
    "Edge density is proposed to be the ratio of pixels within an image that contribute to the formation of lines/edges, divided by the number of pixels that do no contribute to forming lines/edges.\n",
    "\n",
    "*Enter description*\n",
    "\n",
    "*Enter steps taken in algorithm and the formal mathematical definition*"
   ]
  },
  {
   "cell_type": "code",
   "execution_count": 8,
   "metadata": {},
   "outputs": [
    {
     "ename": "TypeError",
     "evalue": "unsupported format string passed to NoneType.__format__",
     "output_type": "error",
     "traceback": [
      "\u001b[0;31m---------------------------------------------------------------------------\u001b[0m",
      "\u001b[0;31mTypeError\u001b[0m                                 Traceback (most recent call last)",
      "Cell \u001b[0;32mIn[8], line 19\u001b[0m\n\u001b[1;32m      8\u001b[0m \u001b[38;5;250m    \u001b[39m\u001b[38;5;124;03m\"\"\"# _summary_\u001b[39;00m\n\u001b[1;32m      9\u001b[0m \n\u001b[1;32m     10\u001b[0m \u001b[38;5;124;03m    ## Args:\u001b[39;00m\n\u001b[0;32m   (...)\u001b[0m\n\u001b[1;32m     14\u001b[0m \u001b[38;5;124;03m        * int:  _description_\u001b[39;00m\n\u001b[1;32m     15\u001b[0m \u001b[38;5;124;03m    \"\"\"\u001b[39;00m\n\u001b[1;32m     16\u001b[0m     \u001b[38;5;66;03m# Implement calculation of edge density\u001b[39;00m\n\u001b[1;32m     17\u001b[0m \n\u001b[1;32m     18\u001b[0m \u001b[38;5;66;03m# Calculate edge density of samples\u001b[39;00m\n\u001b[0;32m---> 19\u001b[0m \u001b[38;5;28;01mfor\u001b[39;00m name, image \u001b[38;5;129;01min\u001b[39;00m images\u001b[38;5;241m.\u001b[39mitems(): \u001b[38;5;28mprint\u001b[39m(\u001b[38;5;124mf\u001b[39m\u001b[38;5;124m\"\u001b[39m\u001b[38;5;124mEdge density of \u001b[39m\u001b[38;5;132;01m{\u001b[39;00mname\u001b[38;5;132;01m:\u001b[39;00m\u001b[38;5;124m5\u001b[39m\u001b[38;5;132;01m}\u001b[39;00m\u001b[38;5;124m: \u001b[39m\u001b[38;5;132;01m{\u001b[39;00medge_density(image)\u001b[38;5;132;01m:\u001b[39;00m\u001b[38;5;124m20.9f\u001b[39m\u001b[38;5;132;01m}\u001b[39;00m\u001b[38;5;124m\"\u001b[39m)\n",
      "\u001b[0;31mTypeError\u001b[0m: unsupported format string passed to NoneType.__format__"
     ]
    }
   ],
   "source": [
    "\"\"\"Define & calculate edge density of sample images.\"\"\"\n",
    "\n",
    "from numpy  import ndarray\n",
    "\n",
    "def edge_density(\n",
    "    image:  ndarray\n",
    ") -> int:\n",
    "    \"\"\"# _summary_\n",
    "\n",
    "    ## Args:\n",
    "         *image (ndarray):  _description_\n",
    "\n",
    "    ## Returns:\n",
    "        * int:  _description_\n",
    "    \"\"\"\n",
    "    # Implement calculation of edge density\n",
    "\n",
    "# Calculate edge density of samples\n",
    "for name, image in images.items(): print(f\"Edge density of {name:5}: {edge_density(image):20.9f}\")"
   ]
  },
  {
   "cell_type": "markdown",
   "metadata": {},
   "source": [
    "---"
   ]
  },
  {
   "cell_type": "markdown",
   "metadata": {},
   "source": [
    "# Fractal Dimensions\n",
    "\n",
    "Fractal dimensions are used to quantify the complexity of a shape, pattern, or image, particularly in fractals or naturally complex patterns. For an image, the box-counting method is a common approach to calculate its fractal dimension.\n",
    "\n",
    "Let $I$ be a 2D binary image where the foreground pixels represent the shape or structure we are analyzing, and the background pixels are zero-valued. The box-counting method consists of the following steps:\n",
    "\n",
    "* Convert the Image to Binary:\n",
    "    If the image $I$ is grayscale, it is first converted into a binary image. This is done by applying a threshold $T$ to the grayscale image:\n",
    "    $$\n",
    "    I_{\\text{binary}}(x, y) =\n",
    "    \\begin{cases}\n",
    "    1 & \\text{if } I(x, y) < T, \\\\\n",
    "    0 & \\text{if } I(x, y) \\geq T,\n",
    "    \\end{cases}\n",
    "    $$\n",
    "    \n",
    "    where $I(x, y)$ is the grayscale intensity of the pixel at position $(x, y)$, and $T$ is the chosen threshold.\n",
    "\n",
    "* Overlay a Grid of Boxes\n",
    "    A grid of boxes of size $\\epsilon \\times \\epsilon$ is placed over the image. For each grid size, count the number of boxes that contain at least one pixel from the foreground (non-zero pixels in $I_{\\text{binary}}$). Denote this count as $N(\\epsilon)$.\n",
    "\n",
    "* Vary the Size of the Grid\n",
    "    Repeat Step 2 for progressively smaller box sizes $\\epsilon$. Typically, $\\epsilon$ values are chosen as powers of 2 (e.g., $\\epsilon = 2^k, k = 1, 2, 3, \\dots$) to ensure a uniform grid division.\n",
    "\n",
    "* Compute the Fractal Dimension\n",
    "\n",
    "    * The fractal dimension $D$ is defined by the scaling relationship between $N(\\epsilon)$ and the box size $\\epsilon$:\n",
    "        $$\n",
    "        D = \\lim_{\\epsilon \\to 0} \\frac{\\log N(\\epsilon)}{\\log (1/\\epsilon)}.\n",
    "        $$\n",
    "\n",
    "    * In practice, $D$ is estimated by plotting $\\log N(\\epsilon)$ against $\\log(1/\\epsilon)$ and finding the slope of the linear portion of the plot:\n",
    "        $$\n",
    "        D \\approx -\\frac{\\Delta \\log N(\\epsilon)}{\\Delta \\log \\epsilon}.\n",
    "        $$\n",
    "\n",
    "### Formal mathematical definition:\n",
    "\n",
    "$$\n",
    "D = \\lim_{\\epsilon \\to 0} \\frac{\\log N(\\epsilon)}{\\log(1/\\epsilon)}\n",
    "$$\n",
    "\n",
    "where:\n",
    "\n",
    "* $N(\\epsilon)$ is the number of boxes of size $\\epsilon \\times \\epsilon$ that contain part of the structure (i.e., boxes containing at least one foreground pixel),\n",
    "* $\\epsilon$ is the side length of each box in the grid,\n",
    "* $\\log$ is the natural logarithm.\n",
    "\n",
    "Reference(s):\n",
    "* [Fractals, fractal dimensions and landscapes a review](https://www.researchgate.net/profile/Tingbao-Xu/publication/238379119_Fractals_fractal_dimensions_and_landscapes_---_a_review/links/5b47e95e45851519b4b46ae2/Fractals-fractal-dimensions-and-landscapes---a-review.pdf)"
   ]
  },
  {
   "cell_type": "code",
   "execution_count": 7,
   "metadata": {},
   "outputs": [
    {
     "name": "stdout",
     "output_type": "stream",
     "text": [
      "<class 'numpy.ndarray'>\n",
      "Fractal dimensions of white:                  nan\n",
      "<class 'numpy.ndarray'>\n",
      "Fractal dimensions of black:          1.896846443\n",
      "<class 'numpy.ndarray'>\n",
      "Fractal dimensions of 2x2  :          1.692627025\n",
      "<class 'numpy.ndarray'>\n",
      "Fractal dimensions of 4x4  :          1.641250766\n",
      "<class 'numpy.ndarray'>\n",
      "Fractal dimensions of 8x8  :          1.673609946\n",
      "<class 'numpy.ndarray'>\n",
      "Fractal dimensions of 16x16:          1.689208731\n"
     ]
    },
    {
     "name": "stderr",
     "output_type": "stream",
     "text": [
      "/tmp/ipykernel_7517/686564201.py:31: RuntimeWarning: divide by zero encountered in log\n",
      "  coeffs: ndarray = polyfit(log(sizes), log(counts), 1)\n"
     ]
    }
   ],
   "source": [
    "\"\"\"Define & calculate fractal dimensions of sample images.\"\"\"\n",
    "\n",
    "from numpy  import add, arange, asarray, count_nonzero, log, logspace, log2, ndarray, polyfit\n",
    "\n",
    "def fractal_dimensions(\n",
    "    image:      ndarray, \n",
    "    threshold:  int     = 128\n",
    ") -> float:\n",
    "\n",
    "    # Convert image to binary\n",
    "    binary_image:   ndarray = (image < threshold)\n",
    "\n",
    "    # Sizes of the boxes (powers of 2)\n",
    "    sizes:          ndarray = logspace(1, log2(min(image.shape)), num=10, base=2).astype(int)\n",
    "\n",
    "    # Initialize counts list\n",
    "    counts:         list    = []\n",
    "    \n",
    "    # For each size\n",
    "    for size in sizes:\n",
    "\n",
    "        # Divide the image into non-overlapping blocks of size x size & count the number of non-empty blocks (blocks containing at least one non-zero pixel)\n",
    "        counts.append(count_nonzero(add.reduceat(\n",
    "            add.reduceat(binary_image, arange(0, binary_image.shape[0], size), axis = 0),\n",
    "            arange(0, binary_image.shape[1], size), axis = 1\n",
    "        )))\n",
    "\n",
    "    # Perform a linear regression on the log-log plot to estimate the fractal dimension\n",
    "    coeffs:         ndarray = polyfit(log(sizes), log(counts), 1)\n",
    "    \n",
    "    # The fractal dimension is the slope of the line\n",
    "    return -coeffs[0]\n",
    "\n",
    "# Calculate fractal dimensions of samples\n",
    "for name, image in images.items(): print(f\"Fractal dimensions of {name:5}: {fractal_dimensions(asarray(image)):20.9f}\")"
   ]
  }
 ],
 "metadata": {
  "kernelspec": {
   "display_name": "cl",
   "language": "python",
   "name": "python3"
  },
  "language_info": {
   "codemirror_mode": {
    "name": "ipython",
    "version": 3
   },
   "file_extension": ".py",
   "mimetype": "text/x-python",
   "name": "python",
   "nbconvert_exporter": "python",
   "pygments_lexer": "ipython3",
   "version": "3.12.3"
  }
 },
 "nbformat": 4,
 "nbformat_minor": 2
}
